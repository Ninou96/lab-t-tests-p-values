{
 "cells": [
  {
   "cell_type": "code",
   "execution_count": 4,
   "id": "6f4df6f5",
   "metadata": {},
   "outputs": [],
   "source": [
    "import scikit_posthocs as sp\n",
    "import numpy as np\n",
    "from scipy import stats\n",
    "import pandas as pd\n",
    "pd.options.display.float_format = '{:,.4f}'.format"
   ]
  },
  {
   "cell_type": "code",
   "execution_count": 5,
   "id": "7590ee8e",
   "metadata": {},
   "outputs": [],
   "source": [
    "New_machine = np.array([42.1, 41, 41.3, 41.8, 42.4, 42.8, 43.2, 42.3, 41.8, 42.7])\n",
    "       \n",
    "Old_machine =  np.array([42.7, 43.6, 43.8, 43.3, 42.5, 43.5, 43.1, 41.7, 44, 44.1])"
   ]
  },
  {
   "cell_type": "markdown",
   "id": "220f39cb",
   "metadata": {},
   "source": [
    "$H_{0}$: The means of the samples are the same.  \n",
    "$H_{1}$: The means of the samples are different."
   ]
  },
  {
   "cell_type": "code",
   "execution_count": 14,
   "id": "65275d90",
   "metadata": {},
   "outputs": [],
   "source": [
    "def check_normality(data):\n",
    "    test_stat_normality, p_value_normality=stats.shapiro(data)\n",
    "    print(\"p value:%.4f\" % p_value_normality)\n",
    "    if p_value_normality <0.05:\n",
    "        print(\"Reject null hypothesis >> The means of the samples are the same.\")\n",
    "    else:\n",
    "        print(\"Fail to reject null hypothesis >> The means of the samples are different.\")     "
   ]
  },
  {
   "cell_type": "code",
   "execution_count": 11,
   "id": "a8ba6a7b",
   "metadata": {},
   "outputs": [],
   "source": [
    "def check_variance_homogeneity(group1, group2):\n",
    "    test_stat_var, p_value_var= stats.levene(group1,group2)\n",
    "    print(\"p value:%.4f\" % p_value_var)\n",
    "    if p_value_var <0.05:\n",
    "        print(\"Reject null hypothesis >> The variances of the samples are different.\")\n",
    "    else:\n",
    "        print(\"Fail to reject null hypothesis >> The variances of the samples are same.\")"
   ]
  },
  {
   "cell_type": "code",
   "execution_count": 15,
   "id": "9944e712",
   "metadata": {},
   "outputs": [
    {
     "name": "stdout",
     "output_type": "stream",
     "text": [
      "p value:0.9676\n",
      "Fail to reject null hypothesis >> The means of the samples are different.\n"
     ]
    }
   ],
   "source": [
    "check_normality(New_machine)"
   ]
  },
  {
   "cell_type": "code",
   "execution_count": 16,
   "id": "916ccbb4",
   "metadata": {},
   "outputs": [
    {
     "name": "stdout",
     "output_type": "stream",
     "text": [
      "p value:0.5010\n",
      "Fail to reject null hypothesis >> The means of the samples are different.\n"
     ]
    }
   ],
   "source": [
    "check_normality(Old_machine)"
   ]
  },
  {
   "cell_type": "code",
   "execution_count": 12,
   "id": "acdfafb1",
   "metadata": {},
   "outputs": [
    {
     "name": "stdout",
     "output_type": "stream",
     "text": [
      "p value:0.8795\n",
      "Fail to reject null hypothesis >> The variances of the samples are same.\n"
     ]
    }
   ],
   "source": [
    "check_variance_homogeneity(New_machine, Old_machine)"
   ]
  },
  {
   "cell_type": "code",
   "execution_count": 6,
   "id": "70992948",
   "metadata": {},
   "outputs": [
    {
     "name": "stdout",
     "output_type": "stream",
     "text": [
      "p value:0.8795\n",
      "Fail to reject null hypothesis >> The variances of the samples are same.\n"
     ]
    }
   ],
   "source": [
    "stat, pvalue_levene= stats.levene(New_machine, Old_machine)\n",
    "\n",
    "print(\"p value:%.4f\" % pvalue_levene)\n",
    "if pvalue_levene <0.05:\n",
    "    print(\"Reject null hypothesis >> The variances of the samples are different.\")\n",
    "else:\n",
    "    print(\"Fail to reject null hypothesis >> The variances of the samples are same.\")"
   ]
  },
  {
   "cell_type": "code",
   "execution_count": 7,
   "id": "189095e2",
   "metadata": {},
   "outputs": [],
   "source": [
    "import statistics\n",
    "from statistics import math"
   ]
  },
  {
   "cell_type": "code",
   "execution_count": 20,
   "id": "19efbdd3",
   "metadata": {},
   "outputs": [
    {
     "name": "stdout",
     "output_type": "stream",
     "text": [
      "Mean packing time of the new machine: 42.14\n",
      "Mean packing time of the old machine: 43.23\n"
     ]
    }
   ],
   "source": [
    "st_dev= round(statistics.pstdev(Old_machine),2)\n",
    "mean_packing_time_new = round(statistics.mean(New_machine),2)\n",
    "print(\"Mean packing time of the new machine: \" + str(mean_packing_time_new))\n",
    "mean_packing_time_old = round(statistics.mean(Old_machine),2)\n",
    "print(\"Mean packing time of the old machine: \" + str(mean_packing_time_old))"
   ]
  },
  {
   "cell_type": "markdown",
   "id": "1806b973",
   "metadata": {},
   "source": [
    "We Conclude that both of the machines performs not equally and the new one is better."
   ]
  },
  {
   "cell_type": "code",
   "execution_count": 13,
   "id": "600b6254",
   "metadata": {},
   "outputs": [],
   "source": [
    "sophomores = [ 3.04, 1.71, 3.3, 2.88, 2.11, 2.6, 2.92, 3.6, 2.28, 2.82, 3.03, 3.13, 2.86, 3.49, 3.11, 2.13, 3.27]  \n",
    "juniors = [ 2.56, 2.77, 2.7, 3, 2.98, 3.47, 3.26, 3.2, 3.19, 2.65, 3, 3.39, 2.58]"
   ]
  },
  {
   "cell_type": "markdown",
   "id": "5b66f5e8",
   "metadata": {},
   "source": [
    "H0 ----> µ = µ0  \n",
    "H1 ---> µ < µ0 or µ > µ0."
   ]
  },
  {
   "cell_type": "code",
   "execution_count": 22,
   "id": "c80a7349",
   "metadata": {},
   "outputs": [
    {
     "name": "stdout",
     "output_type": "stream",
     "text": [
      "Mean GPAs of the juniors: 2.98\n",
      "Mean GPAs of the sophomores: 2.84\n"
     ]
    }
   ],
   "source": [
    "mean_gpa_junior = round(statistics.mean(juniors),2)\n",
    "print(\"Mean GPAs of the juniors: \" + str(mean_gpa_junior))\n",
    "mean_gpa_sophomores = round(statistics.mean(sophomores),2)\n",
    "print(\"Mean GPAs of the sophomores: \" + str(mean_gpa_sophomores))"
   ]
  },
  {
   "cell_type": "code",
   "execution_count": 23,
   "id": "38c55e91",
   "metadata": {},
   "outputs": [
    {
     "name": "stdout",
     "output_type": "stream",
     "text": [
      "Standard deviation of the juniors GPAs: 0.3\n",
      "Standard deviation of the sophomores GPAs: 0.5\n"
     ]
    }
   ],
   "source": [
    "st_dev_junior = round(statistics.pstdev(juniors),2)\n",
    "print(\"Standard deviation of the juniors GPAs: \" + str(st_dev_junior))\n",
    "st_dev_sophomores = round(statistics.pstdev(sophomores),2)\n",
    "print(\"Standard deviation of the sophomores GPAs: \" + str(st_dev_sophomores))\n"
   ]
  },
  {
   "cell_type": "code",
   "execution_count": 25,
   "id": "af3e2e63",
   "metadata": {},
   "outputs": [
    {
     "name": "stderr",
     "output_type": "stream",
     "text": [
      "C:\\Users\\NIDHAL\\AppData\\Local\\Temp\\ipykernel_43772\\3717643557.py:3: VisibleDeprecationWarning: Creating an ndarray from ragged nested sequences (which is a list-or-tuple of lists-or-tuples-or ndarrays with different lengths or shapes) is deprecated. If you meant to do this, you must specify 'dtype=object' when creating the ndarray.\n",
      "  obs =np.array([[ 3.04, 1.71, 3.3, 2.88, 2.11, 2.6, 2.92, 3.6, 2.28, 2.82, 3.03, 3.13, 2.86, 3.49, 3.11, 2.13, 3.27],[ 2.56, 2.77, 2.7, 3, 2.98, 3.47, 3.26, 3.2, 3.19, 2.65, 3, 3.39, 2.58]])\n"
     ]
    },
    {
     "ename": "TypeError",
     "evalue": "'<' not supported between instances of 'list' and 'int'",
     "output_type": "error",
     "traceback": [
      "\u001b[1;31m---------------------------------------------------------------------------\u001b[0m",
      "\u001b[1;31mTypeError\u001b[0m                                 Traceback (most recent call last)",
      "Input \u001b[1;32mIn [25]\u001b[0m, in \u001b[0;36m<cell line: 4>\u001b[1;34m()\u001b[0m\n\u001b[0;32m      1\u001b[0m \u001b[38;5;28;01mfrom\u001b[39;00m \u001b[38;5;21;01mscipy\u001b[39;00m\u001b[38;5;21;01m.\u001b[39;00m\u001b[38;5;21;01mstats\u001b[39;00m \u001b[38;5;28;01mimport\u001b[39;00m chi2_contingency\n\u001b[0;32m      3\u001b[0m obs \u001b[38;5;241m=\u001b[39mnp\u001b[38;5;241m.\u001b[39marray([[ \u001b[38;5;241m3.04\u001b[39m, \u001b[38;5;241m1.71\u001b[39m, \u001b[38;5;241m3.3\u001b[39m, \u001b[38;5;241m2.88\u001b[39m, \u001b[38;5;241m2.11\u001b[39m, \u001b[38;5;241m2.6\u001b[39m, \u001b[38;5;241m2.92\u001b[39m, \u001b[38;5;241m3.6\u001b[39m, \u001b[38;5;241m2.28\u001b[39m, \u001b[38;5;241m2.82\u001b[39m, \u001b[38;5;241m3.03\u001b[39m, \u001b[38;5;241m3.13\u001b[39m, \u001b[38;5;241m2.86\u001b[39m, \u001b[38;5;241m3.49\u001b[39m, \u001b[38;5;241m3.11\u001b[39m, \u001b[38;5;241m2.13\u001b[39m, \u001b[38;5;241m3.27\u001b[39m],[ \u001b[38;5;241m2.56\u001b[39m, \u001b[38;5;241m2.77\u001b[39m, \u001b[38;5;241m2.7\u001b[39m, \u001b[38;5;241m3\u001b[39m, \u001b[38;5;241m2.98\u001b[39m, \u001b[38;5;241m3.47\u001b[39m, \u001b[38;5;241m3.26\u001b[39m, \u001b[38;5;241m3.2\u001b[39m, \u001b[38;5;241m3.19\u001b[39m, \u001b[38;5;241m2.65\u001b[39m, \u001b[38;5;241m3\u001b[39m, \u001b[38;5;241m3.39\u001b[39m, \u001b[38;5;241m2.58\u001b[39m]])\n\u001b[1;32m----> 4\u001b[0m chi2, p, dof, ex \u001b[38;5;241m=\u001b[39m \u001b[43mchi2_contingency\u001b[49m\u001b[43m(\u001b[49m\u001b[43mobs\u001b[49m\u001b[43m,\u001b[49m\u001b[43m \u001b[49m\u001b[43mcorrection\u001b[49m\u001b[38;5;241;43m=\u001b[39;49m\u001b[38;5;28;43;01mFalse\u001b[39;49;00m\u001b[43m)\u001b[49m\n\u001b[0;32m      6\u001b[0m \u001b[38;5;28mprint\u001b[39m(\u001b[38;5;124m\"\u001b[39m\u001b[38;5;124mexpected frequencies:\u001b[39m\u001b[38;5;130;01m\\n\u001b[39;00m\u001b[38;5;124m \u001b[39m\u001b[38;5;124m\"\u001b[39m, np\u001b[38;5;241m.\u001b[39mround(ex,\u001b[38;5;241m2\u001b[39m))\n\u001b[0;32m      7\u001b[0m \u001b[38;5;28mprint\u001b[39m(\u001b[38;5;124m\"\u001b[39m\u001b[38;5;124mdegrees of freedom:\u001b[39m\u001b[38;5;124m\"\u001b[39m, dof)\n",
      "File \u001b[1;32m~\\anaconda3\\lib\\site-packages\\scipy\\stats\\contingency.py:266\u001b[0m, in \u001b[0;36mchi2_contingency\u001b[1;34m(observed, correction, lambda_)\u001b[0m\n\u001b[0;32m    133\u001b[0m \u001b[38;5;124;03m\"\"\"Chi-square test of independence of variables in a contingency table.\u001b[39;00m\n\u001b[0;32m    134\u001b[0m \n\u001b[0;32m    135\u001b[0m \u001b[38;5;124;03mThis function computes the chi-square statistic and p-value for the\u001b[39;00m\n\u001b[1;32m   (...)\u001b[0m\n\u001b[0;32m    263\u001b[0m \u001b[38;5;124;03m          [ 18.10873492,  18.10873492]]]]))\u001b[39;00m\n\u001b[0;32m    264\u001b[0m \u001b[38;5;124;03m\"\"\"\u001b[39;00m\n\u001b[0;32m    265\u001b[0m observed \u001b[38;5;241m=\u001b[39m np\u001b[38;5;241m.\u001b[39masarray(observed)\n\u001b[1;32m--> 266\u001b[0m \u001b[38;5;28;01mif\u001b[39;00m np\u001b[38;5;241m.\u001b[39many(\u001b[43mobserved\u001b[49m\u001b[43m \u001b[49m\u001b[38;5;241;43m<\u001b[39;49m\u001b[43m \u001b[49m\u001b[38;5;241;43m0\u001b[39;49m):\n\u001b[0;32m    267\u001b[0m     \u001b[38;5;28;01mraise\u001b[39;00m \u001b[38;5;167;01mValueError\u001b[39;00m(\u001b[38;5;124m\"\u001b[39m\u001b[38;5;124mAll values in `observed` must be nonnegative.\u001b[39m\u001b[38;5;124m\"\u001b[39m)\n\u001b[0;32m    268\u001b[0m \u001b[38;5;28;01mif\u001b[39;00m observed\u001b[38;5;241m.\u001b[39msize \u001b[38;5;241m==\u001b[39m \u001b[38;5;241m0\u001b[39m:\n",
      "\u001b[1;31mTypeError\u001b[0m: '<' not supported between instances of 'list' and 'int'"
     ]
    }
   ],
   "source": [
    "from scipy.stats import chi2_contingency\n",
    "\n",
    "obs =np.array([[ 3.04, 1.71, 3.3, 2.88, 2.11, 2.6, 2.92, 3.6, 2.28, 2.82, 3.03, 3.13, 2.86, 3.49, 3.11, 2.13, 3.27],[ 2.56, 2.77, 2.7, 3, 2.98, 3.47, 3.26, 3.2, 3.19, 2.65, 3, 3.39, 2.58]])\n",
    "chi2, p, dof, ex = chi2_contingency(obs, correction=False)\n",
    "\n",
    "print(\"expected frequencies:\\n \", np.round(ex,2))\n",
    "print(\"degrees of freedom:\", dof)\n",
    "print(\"test stat :%.4f\" % chi2)\n",
    "print(\"p value:%.4f\" % p)"
   ]
  },
  {
   "cell_type": "code",
   "execution_count": null,
   "id": "463f6568",
   "metadata": {},
   "outputs": [],
   "source": []
  }
 ],
 "metadata": {
  "kernelspec": {
   "display_name": "Python 3 (ipykernel)",
   "language": "python",
   "name": "python3"
  },
  "language_info": {
   "codemirror_mode": {
    "name": "ipython",
    "version": 3
   },
   "file_extension": ".py",
   "mimetype": "text/x-python",
   "name": "python",
   "nbconvert_exporter": "python",
   "pygments_lexer": "ipython3",
   "version": "3.9.12"
  }
 },
 "nbformat": 4,
 "nbformat_minor": 5
}
